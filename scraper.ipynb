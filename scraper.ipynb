{
 "metadata": {
  "language_info": {
   "codemirror_mode": {
    "name": "ipython",
    "version": 3
   },
   "file_extension": ".py",
   "mimetype": "text/x-python",
   "name": "python",
   "nbconvert_exporter": "python",
   "pygments_lexer": "ipython3",
   "version": "3.9.1-final"
  },
  "orig_nbformat": 2,
  "kernelspec": {
   "name": "python3",
   "display_name": "Python 3.9.1 64-bit",
   "metadata": {
    "interpreter": {
     "hash": "663fcf70a6268f48f0ae5969ce6de9988ad359ea414e524dbf21a764de294fbe"
    }
   }
  }
 },
 "nbformat": 4,
 "nbformat_minor": 2,
 "cells": [
  {
   "cell_type": "code",
   "execution_count": 5,
   "metadata": {},
   "outputs": [],
   "source": [
    "from bs4 import BeautifulSoup\n",
    "import requests"
   ]
  },
  {
   "cell_type": "code",
   "execution_count": 22,
   "metadata": {},
   "outputs": [],
   "source": [
    "def goodreads_scrape(url):\n",
    "    page = requests.get(url)\n",
    "\n",
    "    if page.status_code != 200:\n",
    "        raise Exception(\"Error found in request\")\n",
    "    try:\n",
    "        soup = BeautifulSoup(page.text, \"html.parser\")\n",
    "        highlights_span = soup.select('.noteHighlightTextContainer__highlightText > span')\n",
    "        \n",
    "        for highlight in highlight_span:\n",
    "            \n",
    "\n",
    "    except Exception as e:\n",
    "        print(e)"
   ]
  },
  {
   "cell_type": "code",
   "execution_count": 23,
   "metadata": {},
   "outputs": [
    {
     "output_type": "stream",
     "name": "stdout",
     "text": [
      "'text'\n"
     ]
    }
   ],
   "source": [
    "if __name__ == '__main__':\n",
    "    goodreads_scrape('https://www.goodreads.com/notes/18868661-the-motivation-hacker/114436946-luis-miranda-m?ref=abp')"
   ]
  }
 ]
}